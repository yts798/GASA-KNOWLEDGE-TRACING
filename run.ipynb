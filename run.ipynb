{
 "cells": [
  {
   "cell_type": "code",
   "execution_count": 1,
   "metadata": {},
   "outputs": [
    {
     "name": "stdout",
     "output_type": "stream",
     "text": [
      "\u001b[34mDKT_MODULE\u001b[m\u001b[m         README.md          config_model.json  resultGenerator.py\r\n",
      "\u001b[34mData\u001b[m\u001b[m               config.json        main 2.py          run.ipynb\r\n",
      "KTStrategy.py      config_data.json   main.py\r\n"
     ]
    }
   ],
   "source": [
    "!ls"
   ]
  },
  {
   "cell_type": "markdown",
   "metadata": {},
   "source": []
  },
  {
   "cell_type": "code",
   "execution_count": 4,
   "metadata": {},
   "outputs": [
    {
     "name": "stdout",
     "output_type": "stream",
     "text": [
      "You can use this benchmark in four different ways:\n",
      " [1] The first is to test 1 model with 1 dataset,\n",
      " [2] The second is to test 1 model with all datasets,\n",
      " [3] The third is to test all models with 1 datasets,\n",
      " [4] The fourth is to test all models with all dataset.\n",
      " Input number 1, 2, 3, 4 to select your preferred approach to use this benchmark\n",
      "^C\n",
      "Traceback (most recent call last):\n",
      "  File \"main.py\", line 337, in <module>\n",
      "    approach = input()\n",
      "KeyboardInterrupt\n"
     ]
    }
   ],
   "source": [
    "!python main.py\n",
    "\n",
    "1\n"
   ]
  },
  {
   "cell_type": "code",
   "execution_count": null,
   "metadata": {},
   "outputs": [],
   "source": []
  }
 ],
 "metadata": {
  "kernelspec": {
   "display_name": "Python [conda env:dl]",
   "language": "python",
   "name": "conda-env-dl-py"
  },
  "language_info": {
   "codemirror_mode": {
    "name": "ipython",
    "version": 3
   },
   "file_extension": ".py",
   "mimetype": "text/x-python",
   "name": "python",
   "nbconvert_exporter": "python",
   "pygments_lexer": "ipython3",
   "version": "3.7.13"
  }
 },
 "nbformat": 4,
 "nbformat_minor": 4
}
